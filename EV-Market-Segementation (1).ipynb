{
 "cells": [
  {
   "cell_type": "markdown",
   "id": "bd040124-bef4-4ac3-bcbe-5d10a0107186",
   "metadata": {},
   "source": [
    "## **EV-Market-segment**"
   ]
  },
  {
   "cell_type": "markdown",
   "id": "dc639326-a1c2-4c56-bd51-4d7e66fdddfc",
   "metadata": {},
   "source": [
    "## **Psychographic Dataset**"
   ]
  },
  {
   "cell_type": "markdown",
   "id": "3cca495e-66f8-447a-acdf-ce400d9e8748",
   "metadata": {},
   "source": [
    "**This Psychographic data set is taking from the two major Companies reports**\n",
    "***1:- Deloitte 2023 Global Automotive Consumer Study Report***\n",
    "****2:- EY Parthenon Electrifying Indian Mobility Report****"
   ]
  },
  {
   "cell_type": "code",
   "execution_count": 18,
   "id": "737eec7e-653a-4746-90f2-49540a28fcc6",
   "metadata": {},
   "outputs": [
    {
     "name": "stderr",
     "output_type": "stream",
     "text": [
      "[nltk_data] Downloading package stopwords to C:\\Users\\Arun\n",
      "[nltk_data]     Kumar\\AppData\\Roaming\\nltk_data...\n",
      "[nltk_data]   Package stopwords is already up-to-date!\n",
      "[nltk_data] Downloading package wordnet to C:\\Users\\Arun\n",
      "[nltk_data]     Kumar\\AppData\\Roaming\\nltk_data...\n",
      "[nltk_data]   Package wordnet is already up-to-date!\n"
     ]
    }
   ],
   "source": [
    "import numpy as np\n",
    "import pandas as pd\n",
    "import matplotlib.pyplot as plt\n",
    "import seaborn as sns\n",
    "import warnings\n",
    "warnings.filterwarnings('ignore')\n",
    "import re\n",
    "import nltk\n",
    "from nltk.corpus import stopwords\n",
    "nltk.download('stopwords')\n",
    "nltk.download('wordnet')\n",
    "from nltk.stem import WordNetLemmatizer\n",
    "from wordcloud import WordCloud, STOPWORDS\n",
    "from textblob import TextBlob\n",
    "from sklearn.decomposition import PCA\n",
    "from sklearn.cluster import KMeans\n",
    "from yellowbrick.cluster import KElbowVisualizer"
   ]
  },
  {
   "cell_type": "code",
   "execution_count": 19,
   "id": "9c175440-2e4f-4ed1-8fc0-3a579599c646",
   "metadata": {},
   "outputs": [],
   "source": [
    "df_e2w = pd.read_csv('data3.csv')"
   ]
  },
  {
   "cell_type": "markdown",
   "id": "5248d684-052e-48bf-9021-e38423a31271",
   "metadata": {},
   "source": [
    "***Exploratory Data Analysis & Visualization***"
   ]
  },
  {
   "cell_type": "code",
   "execution_count": 21,
   "id": "bca92c8f-3d86-4510-9302-2a4f8913114a",
   "metadata": {},
   "outputs": [
    {
     "data": {
      "text/html": [
       "<div>\n",
       "<style scoped>\n",
       "    .dataframe tbody tr th:only-of-type {\n",
       "        vertical-align: middle;\n",
       "    }\n",
       "\n",
       "    .dataframe tbody tr th {\n",
       "        vertical-align: top;\n",
       "    }\n",
       "\n",
       "    .dataframe thead th {\n",
       "        text-align: right;\n",
       "    }\n",
       "</style>\n",
       "<table border=\"1\" class=\"dataframe\">\n",
       "  <thead>\n",
       "    <tr style=\"text-align: right;\">\n",
       "      <th></th>\n",
       "      <th>Customer ID</th>\n",
       "      <th>Location</th>\n",
       "      <th>Environmental Consciousness</th>\n",
       "      <th>Technology Enthusiasm</th>\n",
       "      <th>Cost Sensitivity</th>\n",
       "      <th>Convenience Preference</th>\n",
       "      <th>Concern for EV Charging Infrastructure</th>\n",
       "      <th>Attitude Toward Climate Change</th>\n",
       "      <th>Interest in EVs</th>\n",
       "    </tr>\n",
       "  </thead>\n",
       "  <tbody>\n",
       "    <tr>\n",
       "      <th>0</th>\n",
       "      <td>C001</td>\n",
       "      <td>Delhi</td>\n",
       "      <td>5</td>\n",
       "      <td>4</td>\n",
       "      <td>3</td>\n",
       "      <td>4</td>\n",
       "      <td>3</td>\n",
       "      <td>5</td>\n",
       "      <td>5</td>\n",
       "    </tr>\n",
       "    <tr>\n",
       "      <th>1</th>\n",
       "      <td>C002</td>\n",
       "      <td>Mumbai</td>\n",
       "      <td>3</td>\n",
       "      <td>5</td>\n",
       "      <td>1</td>\n",
       "      <td>5</td>\n",
       "      <td>1</td>\n",
       "      <td>1</td>\n",
       "      <td>3</td>\n",
       "    </tr>\n",
       "    <tr>\n",
       "      <th>2</th>\n",
       "      <td>C003</td>\n",
       "      <td>Bangalore</td>\n",
       "      <td>4</td>\n",
       "      <td>3</td>\n",
       "      <td>5</td>\n",
       "      <td>5</td>\n",
       "      <td>5</td>\n",
       "      <td>3</td>\n",
       "      <td>5</td>\n",
       "    </tr>\n",
       "    <tr>\n",
       "      <th>3</th>\n",
       "      <td>C004</td>\n",
       "      <td>Hyderabad</td>\n",
       "      <td>3</td>\n",
       "      <td>4</td>\n",
       "      <td>4</td>\n",
       "      <td>3</td>\n",
       "      <td>3</td>\n",
       "      <td>3</td>\n",
       "      <td>5</td>\n",
       "    </tr>\n",
       "    <tr>\n",
       "      <th>4</th>\n",
       "      <td>C005</td>\n",
       "      <td>Chennai</td>\n",
       "      <td>4</td>\n",
       "      <td>5</td>\n",
       "      <td>2</td>\n",
       "      <td>5</td>\n",
       "      <td>1</td>\n",
       "      <td>5</td>\n",
       "      <td>5</td>\n",
       "    </tr>\n",
       "  </tbody>\n",
       "</table>\n",
       "</div>"
      ],
      "text/plain": [
       "  Customer ID   Location  Environmental Consciousness  Technology Enthusiasm  \\\n",
       "0        C001      Delhi                            5                      4   \n",
       "1        C002     Mumbai                            3                      5   \n",
       "2        C003  Bangalore                            4                      3   \n",
       "3        C004  Hyderabad                            3                      4   \n",
       "4        C005    Chennai                            4                      5   \n",
       "\n",
       "   Cost Sensitivity  Convenience Preference  \\\n",
       "0                 3                       4   \n",
       "1                 1                       5   \n",
       "2                 5                       5   \n",
       "3                 4                       3   \n",
       "4                 2                       5   \n",
       "\n",
       "   Concern for EV Charging Infrastructure  Attitude Toward Climate Change  \\\n",
       "0                                       3                               5   \n",
       "1                                       1                               1   \n",
       "2                                       5                               3   \n",
       "3                                       3                               3   \n",
       "4                                       1                               5   \n",
       "\n",
       "   Interest in EVs  \n",
       "0                5  \n",
       "1                3  \n",
       "2                5  \n",
       "3                5  \n",
       "4                5  "
      ]
     },
     "execution_count": 21,
     "metadata": {},
     "output_type": "execute_result"
    }
   ],
   "source": [
    "df_e2w.head()"
   ]
  },
  {
   "cell_type": "code",
   "execution_count": 22,
   "id": "b734b56a-02ce-4944-a222-bad97d016fd2",
   "metadata": {},
   "outputs": [
    {
     "data": {
      "text/plain": [
       "(20, 9)"
      ]
     },
     "execution_count": 22,
     "metadata": {},
     "output_type": "execute_result"
    }
   ],
   "source": [
    "df_e2w.shape"
   ]
  },
  {
   "cell_type": "code",
   "execution_count": 23,
   "id": "c204e312-7260-429a-9189-d221fed01eb1",
   "metadata": {},
   "outputs": [
    {
     "name": "stdout",
     "output_type": "stream",
     "text": [
      "<class 'pandas.core.frame.DataFrame'>\n",
      "RangeIndex: 20 entries, 0 to 19\n",
      "Data columns (total 9 columns):\n",
      " #   Column                                  Non-Null Count  Dtype \n",
      "---  ------                                  --------------  ----- \n",
      " 0   Customer ID                             20 non-null     object\n",
      " 1   Location                                20 non-null     object\n",
      " 2   Environmental Consciousness             20 non-null     int64 \n",
      " 3   Technology Enthusiasm                   20 non-null     int64 \n",
      " 4   Cost Sensitivity                        20 non-null     int64 \n",
      " 5   Convenience Preference                  20 non-null     int64 \n",
      " 6   Concern for EV Charging Infrastructure  20 non-null     int64 \n",
      " 7   Attitude Toward Climate Change          20 non-null     int64 \n",
      " 8   Interest in EVs                         20 non-null     int64 \n",
      "dtypes: int64(7), object(2)\n",
      "memory usage: 1.5+ KB\n"
     ]
    }
   ],
   "source": [
    "df_e2w.info()"
   ]
  },
  {
   "cell_type": "code",
   "execution_count": 24,
   "id": "e5579d8e-a740-45f2-96da-5e0414433de8",
   "metadata": {},
   "outputs": [
    {
     "data": {
      "text/html": [
       "<div>\n",
       "<style scoped>\n",
       "    .dataframe tbody tr th:only-of-type {\n",
       "        vertical-align: middle;\n",
       "    }\n",
       "\n",
       "    .dataframe tbody tr th {\n",
       "        vertical-align: top;\n",
       "    }\n",
       "\n",
       "    .dataframe thead th {\n",
       "        text-align: right;\n",
       "    }\n",
       "</style>\n",
       "<table border=\"1\" class=\"dataframe\">\n",
       "  <thead>\n",
       "    <tr style=\"text-align: right;\">\n",
       "      <th></th>\n",
       "      <th>Environmental Consciousness</th>\n",
       "      <th>Technology Enthusiasm</th>\n",
       "      <th>Cost Sensitivity</th>\n",
       "      <th>Convenience Preference</th>\n",
       "      <th>Concern for EV Charging Infrastructure</th>\n",
       "      <th>Attitude Toward Climate Change</th>\n",
       "      <th>Interest in EVs</th>\n",
       "    </tr>\n",
       "  </thead>\n",
       "  <tbody>\n",
       "    <tr>\n",
       "      <th>count</th>\n",
       "      <td>20.000000</td>\n",
       "      <td>20.000000</td>\n",
       "      <td>20.000000</td>\n",
       "      <td>20.000000</td>\n",
       "      <td>20.000000</td>\n",
       "      <td>20.000000</td>\n",
       "      <td>20.000000</td>\n",
       "    </tr>\n",
       "    <tr>\n",
       "      <th>mean</th>\n",
       "      <td>3.850000</td>\n",
       "      <td>3.800000</td>\n",
       "      <td>3.500000</td>\n",
       "      <td>4.150000</td>\n",
       "      <td>2.950000</td>\n",
       "      <td>3.700000</td>\n",
       "      <td>4.200000</td>\n",
       "    </tr>\n",
       "    <tr>\n",
       "      <th>std</th>\n",
       "      <td>0.933302</td>\n",
       "      <td>0.951453</td>\n",
       "      <td>1.235442</td>\n",
       "      <td>0.812728</td>\n",
       "      <td>1.605091</td>\n",
       "      <td>1.341641</td>\n",
       "      <td>1.005249</td>\n",
       "    </tr>\n",
       "    <tr>\n",
       "      <th>min</th>\n",
       "      <td>2.000000</td>\n",
       "      <td>2.000000</td>\n",
       "      <td>1.000000</td>\n",
       "      <td>3.000000</td>\n",
       "      <td>1.000000</td>\n",
       "      <td>1.000000</td>\n",
       "      <td>3.000000</td>\n",
       "    </tr>\n",
       "    <tr>\n",
       "      <th>25%</th>\n",
       "      <td>3.000000</td>\n",
       "      <td>3.000000</td>\n",
       "      <td>3.000000</td>\n",
       "      <td>3.750000</td>\n",
       "      <td>1.000000</td>\n",
       "      <td>3.000000</td>\n",
       "      <td>3.000000</td>\n",
       "    </tr>\n",
       "    <tr>\n",
       "      <th>50%</th>\n",
       "      <td>4.000000</td>\n",
       "      <td>4.000000</td>\n",
       "      <td>3.000000</td>\n",
       "      <td>4.000000</td>\n",
       "      <td>3.000000</td>\n",
       "      <td>3.000000</td>\n",
       "      <td>5.000000</td>\n",
       "    </tr>\n",
       "    <tr>\n",
       "      <th>75%</th>\n",
       "      <td>5.000000</td>\n",
       "      <td>4.250000</td>\n",
       "      <td>5.000000</td>\n",
       "      <td>5.000000</td>\n",
       "      <td>5.000000</td>\n",
       "      <td>5.000000</td>\n",
       "      <td>5.000000</td>\n",
       "    </tr>\n",
       "    <tr>\n",
       "      <th>max</th>\n",
       "      <td>5.000000</td>\n",
       "      <td>5.000000</td>\n",
       "      <td>5.000000</td>\n",
       "      <td>5.000000</td>\n",
       "      <td>5.000000</td>\n",
       "      <td>5.000000</td>\n",
       "      <td>5.000000</td>\n",
       "    </tr>\n",
       "  </tbody>\n",
       "</table>\n",
       "</div>"
      ],
      "text/plain": [
       "       Environmental Consciousness  Technology Enthusiasm  Cost Sensitivity  \\\n",
       "count                    20.000000              20.000000         20.000000   \n",
       "mean                      3.850000               3.800000          3.500000   \n",
       "std                       0.933302               0.951453          1.235442   \n",
       "min                       2.000000               2.000000          1.000000   \n",
       "25%                       3.000000               3.000000          3.000000   \n",
       "50%                       4.000000               4.000000          3.000000   \n",
       "75%                       5.000000               4.250000          5.000000   \n",
       "max                       5.000000               5.000000          5.000000   \n",
       "\n",
       "       Convenience Preference  Concern for EV Charging Infrastructure  \\\n",
       "count               20.000000                               20.000000   \n",
       "mean                 4.150000                                2.950000   \n",
       "std                  0.812728                                1.605091   \n",
       "min                  3.000000                                1.000000   \n",
       "25%                  3.750000                                1.000000   \n",
       "50%                  4.000000                                3.000000   \n",
       "75%                  5.000000                                5.000000   \n",
       "max                  5.000000                                5.000000   \n",
       "\n",
       "       Attitude Toward Climate Change  Interest in EVs  \n",
       "count                       20.000000        20.000000  \n",
       "mean                         3.700000         4.200000  \n",
       "std                          1.341641         1.005249  \n",
       "min                          1.000000         3.000000  \n",
       "25%                          3.000000         3.000000  \n",
       "50%                          3.000000         5.000000  \n",
       "75%                          5.000000         5.000000  \n",
       "max                          5.000000         5.000000  "
      ]
     },
     "execution_count": 24,
     "metadata": {},
     "output_type": "execute_result"
    }
   ],
   "source": [
    "df_e2w.describe()"
   ]
  },
  {
   "cell_type": "code",
   "execution_count": 25,
   "id": "0934d36f-c6d5-4812-aaa9-3bfcf472bce0",
   "metadata": {},
   "outputs": [
    {
     "name": "stdout",
     "output_type": "stream",
     "text": [
      "Customer ID                               object\n",
      "Location                                  object\n",
      "Environmental Consciousness                int64\n",
      "Technology Enthusiasm                      int64\n",
      "Cost Sensitivity                           int64\n",
      "Convenience Preference                     int64\n",
      "Concern for EV Charging Infrastructure     int64\n",
      "Attitude Toward Climate Change             int64\n",
      "Interest in EVs                            int64\n",
      "dtype: object\n"
     ]
    }
   ],
   "source": [
    "print(df_e2w.dtypes)"
   ]
  },
  {
   "cell_type": "code",
   "execution_count": 26,
   "id": "7ea455c3-067f-42c4-ad4d-870078d5993e",
   "metadata": {},
   "outputs": [
    {
     "data": {
      "text/plain": [
       "Location\n",
       "Delhi         5.0\n",
       "Mumbai        5.0\n",
       "Chandigarh    5.0\n",
       "Vadodara      5.0\n",
       "Faridabad     5.0\n",
       "Thane         5.0\n",
       "Nagpur        5.0\n",
       "Patna         5.0\n",
       "Surat         5.0\n",
       "Indore        5.0\n",
       "Bhopal        5.0\n",
       "Lucknow       5.0\n",
       "Jaipur        5.0\n",
       "Ahmedabad     5.0\n",
       "Kolkata       5.0\n",
       "Pune          5.0\n",
       "Chennai       5.0\n",
       "Hyderabad     5.0\n",
       "Bangalore     5.0\n",
       "Guwahati      5.0\n",
       "Name: proportion, dtype: float64"
      ]
     },
     "execution_count": 26,
     "metadata": {},
     "output_type": "execute_result"
    }
   ],
   "source": [
    "df_e2w['Location'].value_counts(normalize=True)*100"
   ]
  },
  {
   "cell_type": "code",
   "execution_count": null,
   "id": "dc9326a0-7e2e-4eda-a035-e6b0a1c0b7b0",
   "metadata": {},
   "outputs": [],
   "source": [
    "df_e2w_numeric = df_e2w.select_dtypes(include=[np.number])\n",
    "sns.heatmap(df_e2w_numeric.corr(), annot=True)\n",
    "plt.show()"
   ]
  },
  {
   "cell_type": "code",
   "execution_count": null,
   "id": "8b572911-7ea9-4ae4-bab4-c9ab5a94e65b",
   "metadata": {},
   "outputs": [],
   "source": [
    "plt.figure(figsize=(12,4))\n",
    "sns.countplot(x='Location', data=df_e2w)\n",
    "plt.show()"
   ]
  },
  {
   "cell_type": "code",
   "execution_count": null,
   "id": "7468fe69-5b51-436c-8639-ad08caf4d56f",
   "metadata": {},
   "outputs": [],
   "source": [
    "plt.figure(figsize=(16,6))\n",
    "sns.countplot(x='Environmental Consciousness', data=df_e2w)\n",
    "plt.show()"
   ]
  },
  {
   "cell_type": "code",
   "execution_count": null,
   "id": "7b00c87c-68ba-4faa-8fbb-194d9dfb7558",
   "metadata": {},
   "outputs": [],
   "source": [
    "df_e2w['Technology Enthusiasm'].value_counts(normalize=True)*100"
   ]
  },
  {
   "cell_type": "code",
   "execution_count": null,
   "id": "888a2d14-ad64-444d-964c-b8f33b342279",
   "metadata": {},
   "outputs": [],
   "source": [
    "plt.figure(figsize=(12,4))\n",
    "sns.countplot(x='Technology Enthusiasm', data=df_e2w)\n",
    "plt.show()"
   ]
  },
  {
   "cell_type": "code",
   "execution_count": null,
   "id": "4744d2f2-2307-4d83-89e7-33ad9dcd96ab",
   "metadata": {},
   "outputs": [],
   "source": [
    "df_e2w['Cost Sensitivity'].value_counts(normalize=True)*100"
   ]
  },
  {
   "cell_type": "code",
   "execution_count": null,
   "id": "8b536ef5-92fe-4f18-a675-05aad45c0adf",
   "metadata": {},
   "outputs": [],
   "source": [
    "print(df_e2w.columns)"
   ]
  },
  {
   "cell_type": "code",
   "execution_count": null,
   "id": "71f3a75b-604f-4c77-a1d8-ff1a70667b72",
   "metadata": {},
   "outputs": [],
   "source": [
    "sns.countplot(x='Cost Sensitivity', data=df_e2w)\n",
    "plt.show()"
   ]
  },
  {
   "cell_type": "code",
   "execution_count": null,
   "id": "4f06e5b8-29e5-46a1-8158-6a40752d955e",
   "metadata": {},
   "outputs": [],
   "source": [
    "plt.rcParams['figure.figsize'] = [10,15]\n",
    "plt.rcParams['figure.autolayout'] = True\n",
    "f,axes = plt.subplots(4,2)\n",
    "sns.countplot(x='Convenience Preference', data=df_e2w, ax=axes[0][0])\n",
    "sns.countplot(x='Concern for EV Charging Infrastructure', data=df_e2w, ax=axes[0][1])\n",
    "sns.countplot(x='Concern for EV Charging Infrastructure', data=df_e2w, ax=axes[1][0])\n",
    "sns.countplot(x='Attitude Toward Climate Change', data=df_e2w, ax=axes[1][1])\n",
    "sns.countplot(x='Interest in EVs', data=df_e2w, ax=axes[2][0])\n",
    "plt.show()"
   ]
  },
  {
   "cell_type": "code",
   "execution_count": null,
   "id": "38fdfd1a-c5a5-422f-9190-67f1531336c7",
   "metadata": {},
   "outputs": [],
   "source": [
    "plt.figure(figsize=(12,15))\n",
    "sns.countplot(y='Location', data=df_e2w, hue='Interest in EVs')\n",
    "plt.show()"
   ]
  },
  {
   "cell_type": "code",
   "execution_count": null,
   "id": "9bc3e30b-7281-42e5-8622-6b52cd2662b8",
   "metadata": {},
   "outputs": [],
   "source": [
    "plt.figure(figsize=(12,15))\n",
    "sns.countplot(y='Technology Enthusiasm', data=df_e2w, hue='Interest in EVs')\n",
    "plt.show()"
   ]
  },
  {
   "cell_type": "code",
   "execution_count": null,
   "id": "d30d887c-8506-4e6e-a10d-628cfb889369",
   "metadata": {},
   "outputs": [],
   "source": [
    "plt.figure(figsize=(12,15))\n",
    "sns.countplot(y='Cost Sensitivity', data=df_e2w, hue='Interest in EVs')\n",
    "plt.show()"
   ]
  },
  {
   "cell_type": "code",
   "execution_count": null,
   "id": "3396109f-96bd-49c0-9b72-650fb8f4feb4",
   "metadata": {},
   "outputs": [],
   "source": [
    "df1 = df_e2w.copy()\n",
    "df1.head()"
   ]
  },
  {
   "cell_type": "code",
   "execution_count": null,
   "id": "d00b46fb-33ae-4e9e-aa48-02e034840cd8",
   "metadata": {},
   "outputs": [],
   "source": [
    "df1.drop(df1.iloc[:,10:],inplace=True, axis=1)\n",
    "df1.head()"
   ]
  },
  {
   "cell_type": "markdown",
   "id": "a597fb0d-6cd3-4b23-b191-ea18333d8f7e",
   "metadata": {},
   "source": [
    "***Sentiment Analysis***"
   ]
  },
  {
   "cell_type": "code",
   "execution_count": null,
   "id": "dbce6d72-7bef-43ab-9767-bfe45ef3f369",
   "metadata": {},
   "outputs": [],
   "source": [
    "lm = WordNetLemmatizer()"
   ]
  },
  {
   "cell_type": "code",
   "execution_count": null,
   "id": "ee7a56aa-9b37-40d2-b6ed-ab2afe503d6b",
   "metadata": {},
   "outputs": [],
   "source": [
    "# Creating a function for cleaning the text\n",
    "def clean(text):\n",
    "  text = str(text).lower()\n",
    "  text = re.sub('[^a-z]',' ', str(text))\n",
    "  text = text.split()\n",
    "  text = [lm.lemmatize(j) for j in text if j not in set(stopwords.words('english'))]\n",
    "  text = ' '.join(str(k) for k in (text))\n",
    "  return text"
   ]
  },
  {
   "cell_type": "code",
   "execution_count": null,
   "id": "ab7c3f05-5628-48b6-a57e-34e1de027e47",
   "metadata": {},
   "outputs": [],
   "source": [
    "df1['Interest in EVs'][0]"
   ]
  },
  {
   "cell_type": "code",
   "execution_count": null,
   "id": "53c7c859-aae0-4187-b221-f490af327a2f",
   "metadata": {},
   "outputs": [],
   "source": [
    "df1['Interest in EVs'][0:1].apply(clean)\n"
   ]
  },
  {
   "cell_type": "code",
   "execution_count": null,
   "id": "468a4539-7c14-4584-a1fe-015828379acd",
   "metadata": {},
   "outputs": [],
   "source": [
    "# Creating a function to get polarity and subjectivity\n",
    "def subjectivity(text):\n",
    "  return TextBlob(text).sentiment.subjectivity\n",
    "def polarity(text):\n",
    "  return TextBlob(text).sentiment.polarity\n",
    "def getAnalysis(score):\n",
    "  if score <0:\n",
    "    return 'Negative'\n",
    "  elif score == 0:\n",
    "    return 'Neutral'\n",
    "  else:\n",
    "    return 'Positive'"
   ]
  },
  {
   "cell_type": "code",
   "execution_count": null,
   "id": "8402e353-733d-44fe-8a21-4ab08a99723f",
   "metadata": {},
   "outputs": [],
   "source": [
    "df1['cleantext'] = df1['Interest in EVs'].apply(clean)\n",
    "df1['subjectivity'] = df1['cleantext'].apply(subjectivity)\n",
    "df1['polarity'] = df1['cleantext'].apply(polarity)\n",
    "df1['analysis'] = df1['polarity'].apply(getAnalysis)\n",
    "df1.head()"
   ]
  },
  {
   "cell_type": "code",
   "execution_count": null,
   "id": "abe23dfb-3220-441e-b34e-5a72654475a3",
   "metadata": {},
   "outputs": [],
   "source": [
    "score = df1['analysis'].value_counts()\n",
    "score"
   ]
  },
  {
   "cell_type": "code",
   "execution_count": null,
   "id": "f020c400-9a74-450e-94f6-462572faa1bd",
   "metadata": {},
   "outputs": [],
   "source": [
    "df2 = df_e2w.copy()\n",
    "df2 = df2.iloc[:,2:6]\n",
    "df2=df2.fillna(0)\n",
    "df2.head()"
   ]
  },
  {
   "cell_type": "markdown",
   "id": "af34a743-48af-48e3-bec9-2463373564b2",
   "metadata": {},
   "source": [
    "***Principal Component Analysis***"
   ]
  },
  {
   "cell_type": "code",
   "execution_count": null,
   "id": "c9702944-dcec-4e1f-994d-d62aea691112",
   "metadata": {},
   "outputs": [],
   "source": [
    "pca = PCA()\n",
    "principal_components = pca.fit_transform(df2)\n",
    "pca_df = pd.DataFrame(data=principal_components, columns=['PCA1','PCA2','PCA3','PCA4'])\n",
    "pca_df.head()"
   ]
  },
  {
   "cell_type": "code",
   "execution_count": null,
   "id": "4c228c8d-23c7-4b68-aa30-9858af612b05",
   "metadata": {},
   "outputs": [],
   "source": [
    "pca_df[['PCA1','PCA2','PCA3','PCA4']].std()"
   ]
  },
  {
   "cell_type": "code",
   "execution_count": null,
   "id": "022df9e5-6d2d-430c-9d70-922a479d6535",
   "metadata": {},
   "outputs": [],
   "source": [
    "plt.figure(figsize=(8,6))\n",
    "sns.scatterplot(data=pca_df, x='PCA1', y='PCA2',palette='deep')\n",
    "plt.show()"
   ]
  },
  {
   "cell_type": "markdown",
   "id": "7c38bcbc-bac7-4fa2-a004-fb6f05f76692",
   "metadata": {},
   "source": [
    "***Segment Extraction using KMeans Clustering***"
   ]
  },
  {
   "cell_type": "code",
   "execution_count": null,
   "id": "03bd78b6-85db-4882-b633-f6ce0df1fde1",
   "metadata": {},
   "outputs": [],
   "source": [
    "# Using elbow method\n",
    "wcss = []\n",
    "for i in range(1,10):\n",
    "  kmeans = KMeans(n_clusters=i, init='k-means++', random_state = 10)\n",
    "  kmeans.fit(df2)\n",
    "  wcss.append(kmeans.inertia_)\n",
    "\n",
    "plt.figure(figsize=(8,5))\n",
    "plt.grid()\n",
    "plt.plot(range(1,10),wcss, marker = '8',linewidth='3')\n",
    "plt.xlabel(range(1,10))\n",
    "plt.xlabel('Number of Clusters')\n",
    "plt.ylabel('WCSS')\n",
    "plt.show()"
   ]
  },
  {
   "cell_type": "code",
   "execution_count": null,
   "id": "8b315815-9fa2-438f-8a9d-fcca4da9755c",
   "metadata": {},
   "outputs": [],
   "source": [
    "\n",
    "plt.figure(figsize=(8,5))\n",
    "kmeans = KMeans()\n",
    "visualizer = KElbowVisualizer(kmeans,k=(1,10))\n",
    "visualizer.fit(df2)\n",
    "visualizer.show()"
   ]
  },
  {
   "cell_type": "code",
   "execution_count": null,
   "id": "8010b2ff-79fe-4572-938e-800cdbd72990",
   "metadata": {},
   "outputs": [],
   "source": [
    "k_means_model = KMeans(3)\n",
    "k_means_model.fit_predict(df2)\n",
    "pca_df_kmeans = pd.concat([pca_df,pd.DataFrame({'cluster':k_means_model.labels_})],axis=1)\n",
    "pca_df_kmeans.head()"
   ]
  },
  {
   "cell_type": "code",
   "execution_count": null,
   "id": "0865dc87-4cb5-4e7d-a46a-92e68f8cf4c9",
   "metadata": {},
   "outputs": [],
   "source": [
    "\n",
    "plt.figure(figsize=(8,6))\n",
    "ax=sns.scatterplot(x='PCA1',y='PCA2',hue='cluster', data=pca_df_kmeans, palette=['red','blue','green'])\n",
    "plt.title('K Means Clustering')\n",
    "plt.show()"
   ]
  },
  {
   "cell_type": "code",
   "execution_count": null,
   "id": "33c1ad7d-d24b-4821-9b58-442e7a8c7c03",
   "metadata": {},
   "outputs": [],
   "source": [
    "\n",
    "k_means_model = KMeans(3)\n",
    "k_means_model.fit_predict(df2)\n",
    "pca_df_kmeans1 = pd.concat([df_e2w,pd.DataFrame({'cluster':k_means_model.labels_})],axis=1)\n",
    "pca_df_kmeans1 = pca_df_kmeans1.fillna(0)\n",
    "pca_df_kmeans1.head()"
   ]
  },
  {
   "cell_type": "code",
   "execution_count": null,
   "id": "dba9491d-e696-433d-bfc2-45f364007127",
   "metadata": {},
   "outputs": [],
   "source": [
    "\n",
    "plt.figure(figsize=(8,6))\n",
    "sns.countplot(x='cluster',data=pca_df_kmeans1, hue='cluster',palette='tab10')\n",
    "plt.show()"
   ]
  },
  {
   "cell_type": "code",
   "execution_count": null,
   "id": "29b8f90b-6bf7-4009-92ab-e5598ac903a6",
   "metadata": {},
   "outputs": [],
   "source": [
    "\n",
    "pca_df_kmeans1['cluster'].value_counts(normalize=True)*100"
   ]
  },
  {
   "cell_type": "markdown",
   "id": "a7d1856b-6028-4df5-8571-7110849a9578",
   "metadata": {},
   "source": [
    "***Profile and Describing Segments***"
   ]
  },
  {
   "cell_type": "code",
   "execution_count": null,
   "id": "10e3f229-88d3-4335-af51-6b991c1da41d",
   "metadata": {},
   "outputs": [],
   "source": [
    "# Analysis of Cluster 1\n",
    "plt.rcParams['figure.figsize'] = [10,15]\n",
    "plt.rcParams['figure.autolayout'] = True\n",
    "f,axes = plt.subplots(4,2)\n",
    "sns.countplot(x='Environmental Consciousness',data =pca_df_kmeans1[pca_df_kmeans1['cluster'] == 0],ax = axes[0][0], palette='tab10')\n",
    "sns.countplot(x='Technology Enthusiasm',data =pca_df_kmeans1[pca_df_kmeans1['cluster'] == 0],ax=axes[0][1], palette='tab10')\n",
    "sns.countplot(x='Cost Sensitivity',data =pca_df_kmeans1[pca_df_kmeans1['cluster'] == 0],ax=axes[1][0], palette='tab10')\n",
    "sns.countplot(x='Convenience Preference',data =pca_df_kmeans1[pca_df_kmeans1['cluster'] == 0],ax=axes[1][1], palette='tab10')\n",
    "sns.countplot(x='Concern for EV Charging Infrastructure',data =pca_df_kmeans1[pca_df_kmeans1['cluster'] == 0],ax=axes[2][0], palette='tab10')\n",
    "sns.countplot(x='Attitude Toward Climate Change',data =pca_df_kmeans1[pca_df_kmeans1['cluster'] == 0],ax=axes[2][1], palette='tab10')\n",
    "sns.countplot(x='Interest in EVs',data =pca_df_kmeans1[pca_df_kmeans1['cluster'] == 0],ax=axes[3][0], palette='tab10')\n",
    "plt.show()"
   ]
  },
  {
   "cell_type": "code",
   "execution_count": null,
   "id": "9ddeeb3f-886f-4653-99d9-dcc00be0a6b8",
   "metadata": {},
   "outputs": [],
   "source": [
    "# Analysis of Cluster 2\n",
    "plt.rcParams['figure.figsize'] = [10,15]\n",
    "plt.rcParams['figure.autolayout'] = True\n",
    "f,axes = plt.subplots(4,2)\n",
    "sns.countplot(x='Environmental Consciousness',data =pca_df_kmeans1[pca_df_kmeans1['cluster'] == 1],ax = axes[0][0], palette='tab10')\n",
    "sns.countplot(x='Technology Enthusiasm',data =pca_df_kmeans1[pca_df_kmeans1['cluster'] == 1],ax=axes[0][1], palette='tab10')\n",
    "sns.countplot(x='Cost Sensitivity',data =pca_df_kmeans1[pca_df_kmeans1['cluster'] == 1],ax=axes[1][0], palette='tab10')\n",
    "sns.countplot(x='Convenience Preference',data =pca_df_kmeans1[pca_df_kmeans1['cluster'] == 1],ax=axes[1][1], palette='tab10')\n",
    "sns.countplot(x='Concern for EV Charging Infrastructure',data =pca_df_kmeans1[pca_df_kmeans1['cluster'] == 1],ax=axes[2][0], palette='tab10')\n",
    "sns.countplot(x='Attitude Toward Climate Change',data =pca_df_kmeans1[pca_df_kmeans1['cluster'] == 1],ax=axes[2][1], palette='tab10')\n",
    "sns.countplot(x='Interest in EVs',data =pca_df_kmeans1[pca_df_kmeans1['cluster'] == 1],ax=axes[3][0], palette='tab10')\n",
    "sns.countplot(x='I',data =pca_df_kmeans1[pca_df_kmeans1['cluster'] == 1],ax=axes[3][1], palette='tab10')\n",
    "plt.show()"
   ]
  },
  {
   "cell_type": "code",
   "execution_count": null,
   "id": "7960b81b-29f5-47b9-9aea-5899c614d556",
   "metadata": {},
   "outputs": [],
   "source": [
    "# Analysis of Cluster 3\n",
    "plt.rcParams['figure.figsize'] = [10,15]\n",
    "plt.rcParams['figure.autolayout'] = True\n",
    "f,axes = plt.subplots(4,2)\n",
    "sns.countplot(x='Environmental Consciousness',data =pca_df_kmeans1[pca_df_kmeans1['cluster'] == 2],ax = axes[0][0], palette='tab10')\n",
    "sns.countplot(x='Technology Enthusiasm',data =pca_df_kmeans1[pca_df_kmeans1['cluster'] == 2],ax=axes[0][1], palette='tab10')\n",
    "sns.countplot(x='Cost Sensitivity',data =pca_df_kmeans1[pca_df_kmeans1['cluster'] == 2],ax=axes[1][0], palette='tab10')\n",
    "sns.countplot(x='Convenience Preference',data =pca_df_kmeans1[pca_df_kmeans1['cluster'] == 2],ax=axes[1][1], palette='tab10')\n",
    "sns.countplot(x='Concern for EV Charging Infrastructure',data =pca_df_kmeans1[pca_df_kmeans1['cluster'] == 2],ax=axes[2][0], palette='tab10')\n",
    "sns.countplot(x='Attitude Toward Climate Change',data =pca_df_kmeans1[pca_df_kmeans1['cluster'] == 2],ax=axes[2][1], palette='tab10')\n",
    "sns.countplot(x='Interest in EVs',data =pca_df_kmeans1[pca_df_kmeans1['cluster'] == 2],ax=axes[3][0], palette='tab10')\n",
    "plt.show()"
   ]
  },
  {
   "cell_type": "code",
   "execution_count": null,
   "id": "85c44402-cee3-429c-8079-12b31a5d4b85",
   "metadata": {},
   "outputs": [],
   "source": []
  },
  {
   "cell_type": "code",
   "execution_count": null,
   "id": "4a236a6f-b035-458c-89a7-0590e238d152",
   "metadata": {},
   "outputs": [],
   "source": []
  },
  {
   "cell_type": "code",
   "execution_count": null,
   "id": "cc5c79d9-e26b-4ea5-a5ef-90d0a5f5d3df",
   "metadata": {},
   "outputs": [],
   "source": []
  },
  {
   "cell_type": "code",
   "execution_count": null,
   "id": "3ea220f1-a1f7-4520-a3d5-974cdc17b270",
   "metadata": {},
   "outputs": [],
   "source": []
  },
  {
   "cell_type": "code",
   "execution_count": null,
   "id": "28a3788e-ef6a-4931-a5e3-e9921d4ae3b6",
   "metadata": {},
   "outputs": [],
   "source": []
  },
  {
   "cell_type": "code",
   "execution_count": null,
   "id": "6d30371c-d0d5-49d2-bc10-0cffc7d1f1c8",
   "metadata": {},
   "outputs": [],
   "source": []
  },
  {
   "cell_type": "code",
   "execution_count": null,
   "id": "467eec93-5e53-48cb-a963-ee58f71fb3a8",
   "metadata": {},
   "outputs": [],
   "source": []
  },
  {
   "cell_type": "code",
   "execution_count": null,
   "id": "d227d8d1-4194-45f3-9d71-a11c41a73f79",
   "metadata": {},
   "outputs": [],
   "source": []
  },
  {
   "cell_type": "code",
   "execution_count": null,
   "id": "471701aa-a73b-4cb9-a578-a76088379a16",
   "metadata": {},
   "outputs": [],
   "source": []
  },
  {
   "cell_type": "code",
   "execution_count": null,
   "id": "be1df8f3-fcd0-4cf5-871b-4a1960ef999e",
   "metadata": {},
   "outputs": [],
   "source": []
  },
  {
   "cell_type": "code",
   "execution_count": null,
   "id": "8bb1a576-d442-44b9-9ccb-a734e90fb4c5",
   "metadata": {},
   "outputs": [],
   "source": []
  }
 ],
 "metadata": {
  "kernelspec": {
   "display_name": "Python 3 (ipykernel)",
   "language": "python",
   "name": "python3"
  },
  "language_info": {
   "codemirror_mode": {
    "name": "ipython",
    "version": 3
   },
   "file_extension": ".py",
   "mimetype": "text/x-python",
   "name": "python",
   "nbconvert_exporter": "python",
   "pygments_lexer": "ipython3",
   "version": "3.12.3"
  }
 },
 "nbformat": 4,
 "nbformat_minor": 5
}
